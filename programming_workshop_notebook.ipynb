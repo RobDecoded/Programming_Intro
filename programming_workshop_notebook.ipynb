{
 "cells": [
  {
   "cell_type": "markdown",
   "metadata": {},
   "source": [
    "# Fundamentals of Python\n",
    "\n",
    "This notebook is designed to help cement your knowledge of Python syntax and methods. As you complete each challenge, you will practise foundational programming skills and develop your computational thinking ability."
   ]
  },
  {
   "cell_type": "markdown",
   "metadata": {},
   "source": [
    "## Variables\n",
    "\n",
    "A variable is a **named** place to store a **value** that can **change**.\n",
    "\n",
    "Variables can have almost any name, as long as it is a single word (no spaces or punctuation), does not begin with a number, and is not a word that Python already knows."
   ]
  },
  {
   "cell_type": "code",
   "execution_count": 8,
   "metadata": {},
   "outputs": [],
   "source": [
    "# Assigning a number to a variable\n",
    "\n",
    "\n",
    "# Adding 1 to a variable\n",
    "\n",
    "\n",
    "# Assigning a variable based on user input \n",
    "\n",
    "\n",
    "# Displaying a variable\n",
    "\n"
   ]
  },
  {
   "cell_type": "markdown",
   "metadata": {},
   "source": [
    "### Challenge 1\n",
    "\n",
    "- Assign numbers to two different variables\n",
    "- Multiply the numbers and assign the result to a third variable\n",
    "- Display the value of the third variable"
   ]
  },
  {
   "cell_type": "code",
   "execution_count": null,
   "metadata": {},
   "outputs": [],
   "source": []
  },
  {
   "cell_type": "markdown",
   "metadata": {},
   "source": [
    "## Data types\n",
    "\n",
    "Different kinds of information are stored as different variable types. Python recognises several different data basic types:\n",
    "\n",
    "* String - \n",
    "* Integer - \n",
    "* Float -\n",
    "* Boolean - \n",
    "\n",
    "Certain operations - like addition - work differently on different data types, so it is important to be clear on what type of value you have."
   ]
  },
  {
   "cell_type": "code",
   "execution_count": 5,
   "metadata": {},
   "outputs": [],
   "source": [
    "# Assigning a string to a variable\n",
    "\n",
    "\n",
    "# Converting an integer to a string and storing the string in a variable\n",
    "\n",
    "\n",
    "# Converting a string to an integer and storing the integer in a variable\n",
    "\n"
   ]
  },
  {
   "cell_type": "markdown",
   "metadata": {},
   "source": [
    "### Challenge 2\n",
    "\n",
    "- Prompt the user to enter a number\n",
    "- Store the number as an integer in a variable\n",
    "- multiply the number by 7 and store the result in the same variable\n",
    "- Display a sentence about the number, including the number"
   ]
  },
  {
   "cell_type": "code",
   "execution_count": null,
   "metadata": {},
   "outputs": [],
   "source": []
  },
  {
   "cell_type": "markdown",
   "metadata": {},
   "source": [
    "## Loops\n",
    "\n",
    "**Repeat** a **block** of code\n",
    "\n",
    "A FOR loop is used when you know how many times you need to loop.\n",
    "\n",
    "A WHILE loop is used when you are not sure how many times you will need to loop."
   ]
  },
  {
   "cell_type": "code",
   "execution_count": 6,
   "metadata": {},
   "outputs": [],
   "source": [
    "# A FOR loop that counts from 1 to 10, printing out each number\n",
    "\n",
    "    \n",
    "# A WHILE loop that runs until a number is greater than 1000\n",
    "\n"
   ]
  },
  {
   "cell_type": "markdown",
   "metadata": {},
   "source": [
    "### Challenge 3\n",
    "\n",
    "- Create a loop that counts from a user-entered number to a higher user-entered number"
   ]
  },
  {
   "cell_type": "code",
   "execution_count": null,
   "metadata": {
    "scrolled": true
   },
   "outputs": [],
   "source": []
  },
  {
   "cell_type": "markdown",
   "metadata": {},
   "source": [
    "### Challenge 4\n",
    "\n",
    "- Prompt the user to enter an integer\n",
    "- Keep prompting until the user enters a valid integer"
   ]
  },
  {
   "cell_type": "code",
   "execution_count": null,
   "metadata": {},
   "outputs": [],
   "source": []
  },
  {
   "cell_type": "markdown",
   "metadata": {},
   "source": [
    "## Conditionals\n",
    "\n",
    "**Direct** a process based on **logic**\n",
    "\n",
    "IF statements evaluate logical statements, and then do different things based on whether the statements are  `True` or `False`.\n",
    "\n",
    "Every IF statement begins with an `if`.\n",
    "\n",
    "You can have as many `elif` statements as you want.\n",
    "\n",
    "If you have an `else` in your statement, it has to come at the end. `else` does not have a condition."
   ]
  },
  {
   "cell_type": "code",
   "execution_count": 7,
   "metadata": {},
   "outputs": [],
   "source": [
    "# An IF statement that prints out \"higher\" if a user-entered number is greater than 3\n",
    "\n",
    "\n",
    "# An IF statement including both elif and else\n",
    "\n"
   ]
  },
  {
   "cell_type": "markdown",
   "metadata": {},
   "source": [
    "### Challenge 5\n",
    "\n",
    "- Prompt the user for an animal\n",
    "- If the animal is a cat, print \"meow\"\n",
    "- If the animal is a dog, print \"woof\"\n",
    "- In all other situations, print \"squawk\""
   ]
  },
  {
   "cell_type": "code",
   "execution_count": null,
   "metadata": {},
   "outputs": [],
   "source": []
  },
  {
   "cell_type": "markdown",
   "metadata": {},
   "source": [
    "### Challenge 6\n",
    "\n",
    "- Prompt the user for an integer\n",
    "- If the number is less than 17 and greater than 4, print \"just right\"\n",
    "- If the number is greater than 17 or under 0, print \"wrong size\"\n",
    "- If the number is exactly 3, print \"too three\"\n",
    "- In all other cases, print the number as many times as the number"
   ]
  },
  {
   "cell_type": "code",
   "execution_count": null,
   "metadata": {},
   "outputs": [],
   "source": []
  },
  {
   "cell_type": "markdown",
   "metadata": {},
   "source": [
    "## Functions\n",
    "\n",
    "A **named**, **repeatable** block of code.\n",
    "\n",
    "A function must be `def`ined before it can be **called**.\n",
    "\n",
    "A function can `return` a value.\n",
    "\n",
    "Some functions take **arguments** when they are called.\n"
   ]
  },
  {
   "cell_type": "code",
   "execution_count": null,
   "metadata": {},
   "outputs": [],
   "source": [
    "# A function that takes a string as an argument and prints the string out 4 times\n",
    "\n",
    "\n",
    "# A function that adds 2 to a given number and returns the new value\n",
    "\n"
   ]
  },
  {
   "cell_type": "markdown",
   "metadata": {},
   "source": [
    "### Challenge 7\n",
    "\n",
    "- Create a function called `farewell` that takes one argument\n",
    "- The function should return the string \"Goodbye forever, \" concatenated with the argument"
   ]
  },
  {
   "cell_type": "code",
   "execution_count": null,
   "metadata": {},
   "outputs": [],
   "source": []
  },
  {
   "cell_type": "markdown",
   "metadata": {},
   "source": [
    "### Challenge 8\n",
    "\n",
    "- Create a function `addNums` that takes two arguments\n",
    "- If the arguments are not numeric, the function should return 0\n",
    "- Otherwise, the function should return the two arguments added together"
   ]
  },
  {
   "cell_type": "code",
   "execution_count": null,
   "metadata": {},
   "outputs": [],
   "source": []
  },
  {
   "cell_type": "markdown",
   "metadata": {},
   "source": [
    "## Reading stack traces\n",
    "\n",
    "Even the best programmers often encounter errors, and so the ability to understand error messages is a key skill for all coding. \n",
    "\n",
    "When you first see an error message, or \"stack trace\" (a list of errors in the order that they occurred, going back to the root error), it can be quite intimidating. However, there's actually only one place you normally need to look for information.\n",
    "\n",
    "The very last two lines of the error message will tell you the type, line location, and exact nature of any error. \n",
    "\n",
    "Run the code block below to see an error message."
   ]
  },
  {
   "cell_type": "code",
   "execution_count": 2,
   "metadata": {},
   "outputs": [
    {
     "ename": "TypeError",
     "evalue": "unsupported operand type(s) for +: 'int' and 'str'",
     "output_type": "error",
     "traceback": [
      "\u001b[0;31m---------------------------------------------------------------------------\u001b[0m",
      "\u001b[0;31mTypeError\u001b[0m                                 Traceback (most recent call last)",
      "\u001b[0;32m<ipython-input-2-96788054896b>\u001b[0m in \u001b[0;36m<module>\u001b[0;34m\u001b[0m\n\u001b[0;32m----> 1\u001b[0;31m \u001b[0mprint\u001b[0m\u001b[0;34m(\u001b[0m\u001b[0;36m2\u001b[0m \u001b[0;34m+\u001b[0m \u001b[0;34m\"2\"\u001b[0m\u001b[0;34m)\u001b[0m\u001b[0;34m\u001b[0m\u001b[0;34m\u001b[0m\u001b[0m\n\u001b[0m",
      "\u001b[0;31mTypeError\u001b[0m: unsupported operand type(s) for +: 'int' and 'str'"
     ]
    }
   ],
   "source": [
    "print(2 + \"2\")"
   ]
  },
  {
   "cell_type": "markdown",
   "metadata": {},
   "source": [
    "The error occurred on line 1, with the call `print(2 + \"2)`. It's a `TypeError`, which means that you attempt to do something with a data type (or types) that the computer did not understand. The specific message is `unsupported operand type(s) for +: 'int' and 'str'` - you attempted to add a string and an integer, which does not work. \n",
    "\n",
    "With the above information, you can work out how to solve the problem."
   ]
  },
  {
   "cell_type": "markdown",
   "metadata": {},
   "source": [
    "### Challenge 9\n",
    "\n",
    "Run the code blocks below, identify the errors based on the stack traces, and correct the code."
   ]
  },
  {
   "cell_type": "markdown",
   "metadata": {},
   "source": [
    "def add(num1, num2)\n",
    "    num1 + num2"
   ]
  },
  {
   "cell_type": "code",
   "execution_count": 2,
   "metadata": {},
   "outputs": [
    {
     "ename": "TypeError",
     "evalue": "multiply() takes 2 positional arguments but 3 were given",
     "output_type": "error",
     "traceback": [
      "\u001b[0;31m---------------------------------------------------------------------------\u001b[0m",
      "\u001b[0;31mTypeError\u001b[0m                                 Traceback (most recent call last)",
      "\u001b[0;32m<ipython-input-2-a04b067bf9fc>\u001b[0m in \u001b[0;36m<module>\u001b[0;34m\u001b[0m\n\u001b[1;32m      2\u001b[0m     \u001b[0;32mreturn\u001b[0m \u001b[0mnum1\u001b[0m \u001b[0;34m*\u001b[0m \u001b[0mnum2\u001b[0m\u001b[0;34m\u001b[0m\u001b[0;34m\u001b[0m\u001b[0m\n\u001b[1;32m      3\u001b[0m \u001b[0;34m\u001b[0m\u001b[0m\n\u001b[0;32m----> 4\u001b[0;31m \u001b[0mmultiply\u001b[0m\u001b[0;34m(\u001b[0m\u001b[0;36m3\u001b[0m\u001b[0;34m,\u001b[0m\u001b[0;36m4\u001b[0m\u001b[0;34m,\u001b[0m\u001b[0;36m5\u001b[0m\u001b[0;34m)\u001b[0m\u001b[0;34m\u001b[0m\u001b[0;34m\u001b[0m\u001b[0m\n\u001b[0m",
      "\u001b[0;31mTypeError\u001b[0m: multiply() takes 2 positional arguments but 3 were given"
     ]
    }
   ],
   "source": [
    "def multiply(num1, num2):\n",
    "    return num1 * num2\n",
    "\n",
    "multiply(3,4,5)"
   ]
  },
  {
   "cell_type": "markdown",
   "metadata": {},
   "source": [
    "## Extra challenges"
   ]
  },
  {
   "cell_type": "markdown",
   "metadata": {},
   "source": [
    "Create a program in which:\n",
    "\n",
    "* The computer randomly generates a number\n",
    "* The user has five attempts to guess the number\n",
    "* After each guess, the computer outputs if the guess was too high or too low"
   ]
  },
  {
   "cell_type": "code",
   "execution_count": null,
   "metadata": {},
   "outputs": [],
   "source": []
  },
  {
   "cell_type": "markdown",
   "metadata": {},
   "source": [
    "Create a program which allows the user to play games of \"Rock, Paper, Scissors\" against the computer."
   ]
  },
  {
   "cell_type": "code",
   "execution_count": null,
   "metadata": {},
   "outputs": [],
   "source": []
  }
 ],
 "metadata": {
  "kernelspec": {
   "display_name": "Python 3",
   "language": "python",
   "name": "python3"
  },
  "language_info": {
   "codemirror_mode": {
    "name": "ipython",
    "version": 3
   },
   "file_extension": ".py",
   "mimetype": "text/x-python",
   "name": "python",
   "nbconvert_exporter": "python",
   "pygments_lexer": "ipython3",
   "version": "3.7.1"
  }
 },
 "nbformat": 4,
 "nbformat_minor": 2
}
